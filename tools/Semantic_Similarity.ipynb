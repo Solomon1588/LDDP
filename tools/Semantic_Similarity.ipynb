{
 "cells": [
  {
   "cell_type": "code",
   "execution_count": 1,
   "metadata": {
    "collapsed": false
   },
   "outputs": [
    {
     "name": "stdout",
     "output_type": "stream",
     "text": [
      "Populating the interactive namespace from numpy and matplotlib\n"
     ]
    }
   ],
   "source": [
    "%pylab inline"
   ]
  },
  {
   "cell_type": "code",
   "execution_count": 44,
   "metadata": {
    "collapsed": true
   },
   "outputs": [],
   "source": [
    "import csv\n",
    "import scipy\n",
    "from scipy import sparse as sps\n",
    "from scipy import io\n",
    "import numpy as np\n",
    "import pickle\n",
    "import json"
   ]
  },
  {
   "cell_type": "code",
   "execution_count": 5,
   "metadata": {
    "collapsed": false
   },
   "outputs": [],
   "source": [
    "tree_p2c={}\n",
    "tree_c2p={}\n",
    "with open(\"../data/imagenet_data/imagenet_tree.txt\") as csv_file:\n",
    "    spamreader = csv.reader(csv_file, delimiter=\" \", quotechar='|')\n",
    "    for row in spamreader:\n",
    "        if row[1] not in tree_c2p:\n",
    "            tree_c2p[row[1]]=[row[0]]\n",
    "        else:\n",
    "            tree_c2p[row[1]].append(row[0])\n",
    "        if row[0] not in tree_p2c:\n",
    "            tree_p2c[row[0]]=[row[1]]\n",
    "        else:\n",
    "            tree_p2c[row[0]].append(row[1])\n",
    "    "
   ]
  },
  {
   "cell_type": "code",
   "execution_count": 6,
   "metadata": {
    "collapsed": false
   },
   "outputs": [],
   "source": [
    "words={}\n",
    "words_r={}\n",
    "duplicates=[]\n",
    "with open(\"../data/imagenet_data/imagenet_words.txt\") as csv_file:\n",
    "    spamreader = csv.reader(csv_file, delimiter=\"\\t\", quotechar='|')\n",
    "    for row in spamreader:\n",
    "        words[row[0]]=row[1]\n",
    "        if row[1] in words_r:\n",
    "            duplicates.append(row[1])\n",
    "        words_r[row[1]]=row[0]"
   ]
  },
  {
   "cell_type": "code",
   "execution_count": 7,
   "metadata": {
    "collapsed": true
   },
   "outputs": [],
   "source": [
    "words_r['elephant']='n02503517'\n",
    "words_r['person']='n00007846'\n",
    "words_r['ball']='n02778669'\n",
    "words_r['bear']='n02131653'\n",
    "words_r['bed']='n02818832'\n",
    "words_r['bench']='n02828884'\n",
    "words_r['book']='n02870526'\n",
    "words_r['bowl']='n02880940'\n",
    "words_r['carrot']='n07730207'\n",
    "words_r['chair']='n03001627'\n",
    "words_r['couch']='n04256520'\n",
    "words_r['cow']='n01887787'\n",
    "words_r['cup']='n03147509'\n",
    "words_r['fork']='n03383948'\n",
    "words_r['spoon']='n04284002'\n",
    "words_r['knife']='n04380346'\n",
    "words_r['kite']='n03621473'\n",
    "words_r['mouse']='n03793489'\n",
    "words_r['orange']='n07747607'\n",
    "words_r['sheep']='n02411705'\n",
    "words_r['sign']='n06793231'\n",
    "words_r['sink']='n03620052'\n",
    "words_r['tie']='n03815615'\n",
    "words_r['dog']='n02084071'\n",
    "words_r['cat']='n02121620'\n",
    "words_r['tv']='n06277280'\n",
    "words_r['toilet']='n04447028'\n",
    "words_r['backpack']='n02773037'\n",
    "words_r['handbag']='n02774152'\n",
    "words_r['suitcase']='n02774630'\n",
    "\n",
    "\n"
   ]
  },
  {
   "cell_type": "code",
   "execution_count": 8,
   "metadata": {
    "collapsed": false
   },
   "outputs": [],
   "source": [
    "raw_counts={}\n",
    "with open(\"../data/imagenet_data/imagenet_count.txt\") as csv_file:\n",
    "    spamreader = csv.reader(csv_file, delimiter=\" \", quotechar='|')\n",
    "    for row in spamreader:\n",
    "        if \"./n\" in row[0]:\n",
    "            raw_counts[row[0][2:]]=int(row[1])"
   ]
  },
  {
   "cell_type": "code",
   "execution_count": 41,
   "metadata": {
    "collapsed": false
   },
   "outputs": [],
   "source": [
    "leaves=(set(tree_c2p.keys())-set(tree_p2c.keys()))\n",
    "nodes=list(set(tree_c2p.keys())|set(tree_p2c.keys()))\n"
   ]
  },
  {
   "cell_type": "code",
   "execution_count": 11,
   "metadata": {
    "collapsed": true
   },
   "outputs": [],
   "source": [
    "node_2_idx={k:i for i,k in enumerate(nodes)}\n",
    "idx_2_node={i:k for i,k in enumerate(nodes)}"
   ]
  },
  {
   "cell_type": "code",
   "execution_count": 12,
   "metadata": {
    "collapsed": true
   },
   "outputs": [],
   "source": [
    "def ged_descendents(node,Descendents):\n",
    "    if node not in Descendents:\n",
    "        descendents=set([node])\n",
    "        if node in tree_p2c:\n",
    "            for child in tree_p2c[node]:\n",
    "                if child not in Descendents:\n",
    "                    ged_descendents(child,Descendents)\n",
    "                descendents|=Descendents[child]\n",
    "        Descendents[node]=descendents"
   ]
  },
  {
   "cell_type": "code",
   "execution_count": 13,
   "metadata": {
    "collapsed": false
   },
   "outputs": [],
   "source": [
    "Descendents={}\n",
    "for node in nodes:\n",
    "    ged_descendents(node,Descendents)\n"
   ]
  },
  {
   "cell_type": "code",
   "execution_count": 14,
   "metadata": {
    "collapsed": true
   },
   "outputs": [],
   "source": [
    "Ancestors={}\n",
    "for node in nodes:\n",
    "    for dec in Descendents[node]:\n",
    "        if dec not in Ancestors:\n",
    "            Ancestors[dec]=set([])\n",
    "        Ancestors[dec].add(node)\n"
   ]
  },
  {
   "cell_type": "code",
   "execution_count": 15,
   "metadata": {
    "collapsed": false
   },
   "outputs": [],
   "source": [
    "counts={}\n",
    "for node in nodes:\n",
    "    c=0\n",
    "    for d in Descendents[node]:\n",
    "        if d in raw_counts:\n",
    "            c+=raw_counts[d]\n",
    "    counts[node]=c"
   ]
  },
  {
   "cell_type": "code",
   "execution_count": 17,
   "metadata": {
    "collapsed": false
   },
   "outputs": [],
   "source": [
    "total_count=max(counts.values())\n",
    "pscnt=1\n",
    "IC={}\n",
    "for node in nodes:\n",
    "    if counts[node]>500000:\n",
    "        cn=total_count\n",
    "    else:\n",
    "        cn=counts[node]\n",
    "    IC[node]=np.log((cn+pscnt)/float(total_count+pscnt))"
   ]
  },
  {
   "cell_type": "code",
   "execution_count": 18,
   "metadata": {
    "collapsed": false
   },
   "outputs": [],
   "source": [
    "def find_common_ancestor(node1,node2):\n",
    "    a1=Ancestors[node1]\n",
    "    a2=Ancestors[node2]\n",
    "    return sorted([(k,counts[k],IC[k]) for k in set(a1)&set(a2)],key=lambda x:x[1])[0]"
   ]
  },
  {
   "cell_type": "code",
   "execution_count": 39,
   "metadata": {
    "collapsed": true
   },
   "outputs": [],
   "source": [
    "def compute_sim(classes,class_map):\n",
    "    \"\"\"Compute similarity matrix\"\"\"\n",
    "    num_classes = len(classes)\n",
    "    Sim=np.zeros((num_classes,num_classes))\n",
    "    for i,clsi in enumerate(classes):\n",
    "        ci=words_r[class_map[clsi]]\n",
    "        for j,clsj in enumerate(classes):\n",
    "            if i==j:\n",
    "                Sim[i,j]=1\n",
    "                continue        \n",
    "            cj=words_r[class_map[clsj]]\n",
    "            cc=find_common_ancestor(ci,cj)\n",
    "            if cc[2]==0:\n",
    "                Sim[i][j]=0\n",
    "            else:\n",
    "                Sim[i][j]=(2*cc[2])/(IC[ci]+IC[cj])\n",
    "            Sim[j][i]=Sim[i][j]\n",
    "    return Sim\n",
    "\n",
    "    "
   ]
  },
  {
   "cell_type": "code",
   "execution_count": 49,
   "metadata": {
    "collapsed": false
   },
   "outputs": [],
   "source": [
    "with open('../data/info.json', 'r') as fp:\n",
    "    info = json.load(fp)\n",
    "pascal_20_classes = info['pascal_cats'][1:]"
   ]
  },
  {
   "cell_type": "code",
   "execution_count": 20,
   "metadata": {
    "collapsed": true
   },
   "outputs": [],
   "source": [
    "pascal_class_map={cls:cls for cls in pascal_20_classes}\n",
    "pascal_class_map[\"aeroplane\"]=\"airplane, aeroplane, plane\"\n",
    "pascal_class_map[\"bicycle\"]=\"bicycle, bike, wheel, cycle\"\n",
    "pascal_class_map[\"bus\"]=\"bus, autobus, coach, charabanc, double-decker, jitney, motorbus, motorcoach, omnibus, passenger vehicle\"\n",
    "pascal_class_map[\"train\"]=\"train, railroad train\"\n",
    "pascal_class_map[\"car\"]=\"car, auto, automobile, machine, motorcar\"\n",
    "pascal_class_map[\"diningtable\"]=\"dining table, board\"\n",
    "pascal_class_map[\"horse\"]=\"horse, Equus caballus\"\n",
    "pascal_class_map[\"motorbike\"]=\"minibike, motorbike\"\n",
    "pascal_class_map[\"pottedplant\"]=\"pot plant\"\n",
    "pascal_class_map[\"sofa\"]=\"sofa, couch, lounge\"\n",
    "pascal_class_map[\"tvmonitor\"]=\"television monitor, tv monitor\"\n"
   ]
  },
  {
   "cell_type": "code",
   "execution_count": 22,
   "metadata": {
    "collapsed": false
   },
   "outputs": [],
   "source": [
    "Sim_pascal = compute_sim(pascal_20_classes,pascal_class_map)\n",
    "# pickle.dump(Sim_pascal,open(\"../data/semantic_similarity/pascal_voc_2007_semantics.pickle\",\"w\"))"
   ]
  },
  {
   "cell_type": "code",
   "execution_count": 50,
   "metadata": {
    "collapsed": true
   },
   "outputs": [],
   "source": [
    "coco_80_classes = info['coco_cats'][1:]"
   ]
  },
  {
   "cell_type": "code",
   "execution_count": 24,
   "metadata": {
    "collapsed": false
   },
   "outputs": [],
   "source": [
    "coco_class_map={cls:cls for cls in coco_80_classes}\n",
    "coco_class_map[\"bicycle\"]=\"bicycle, bike, wheel, cycle\"\n",
    "coco_class_map[\"car\"]=\"car, auto, automobile, machine, motorcar\"\n",
    "coco_class_map[u'motorcycle']=\"motorcycle, bike\"\n",
    "coco_class_map[u'airplane']=\"airplane, aeroplane, plane\"\n",
    "coco_class_map[\"bus\"]=\"bus, autobus, coach, charabanc, double-decker, jitney, motorbus, motorcoach, omnibus, passenger vehicle\"\n",
    "coco_class_map[\"train\"]=\"train, railroad train\"\n",
    "coco_class_map['truck']=\"truck, motortruck\"\n",
    "coco_class_map['traffic light']=\"traffic light, traffic signal, stoplight\"\n",
    "coco_class_map['fire hydrant']=\"fireplug, fire hydrant, plug\"\n",
    "coco_class_map['stop sign']=\"sign\"\n",
    "coco_class_map[\"horse\"]=\"horse, Equus caballus\"\n",
    "coco_class_map['giraffe']=\"giraffe, camelopard, Giraffa camelopardalis\"\n",
    "coco_class_map['backpack']=\"backpack, back pack, knapsack, packsack, rucksack, haversack\"\n",
    "coco_class_map['handbag']=\"bag, handbag, pocketbook, purse\"\n",
    "coco_class_map['suitcase']=\"bag, traveling bag, travelling bag, grip, suitcase\"\n",
    "coco_class_map['frisbee']=\"ultimate frisbee\"\n",
    "coco_class_map['skis']=\"ski\"\n",
    "coco_class_map['sports ball']=\"ball\"\n",
    "coco_class_map['baseball bat']='baseball bat, lumber'\n",
    "coco_class_map['baseball glove']='baseball glove, glove, baseball mitt, mitt'\n",
    "coco_class_map['tennis racket']='tennis racket, tennis racquet'\n",
    "coco_class_map['wine glass']='wineglass'\n",
    "coco_class_map['hot dog']='hotdog, hot dog'\n",
    "coco_class_map['pizza']='pizza, pizza pie'\n",
    "coco_class_map['donut']='doughnut, donut, sinker'\n",
    "coco_class_map[\"potted plant\"]=\"pot plant\"\n",
    "coco_class_map['dining table']='dining table, board'\n",
    "coco_class_map['toilet']='toilet, toilette'\n",
    "coco_class_map['tv']='television receiver, television, television set, tv, tv set, idiot box, boob tube, telly, goggle box'\n",
    "coco_class_map['remote']='remote control, remote'\n",
    "coco_class_map['laptop']='laptop, laptop computer'\n",
    "coco_class_map['cell phone']='cellular telephone, cellular phone, cellphone, cell, mobile phone'\n",
    "coco_class_map['refrigerator']='electric refrigerator, fridge'\n",
    "coco_class_map['teddy bear']='teddy, teddy bear'\n",
    "coco_class_map['hair drier']='hand blower, blow dryer, blow drier, hair dryer, hair drier'\n",
    " \n",
    "\n",
    "\n"
   ]
  },
  {
   "cell_type": "code",
   "execution_count": 32,
   "metadata": {
    "collapsed": true
   },
   "outputs": [],
   "source": [
    "Sim_coco = compute_sim(coco_80_classes,coco_class_map)\n",
    "#pickle.dump(Sim_coco, open(\"../data/semantic_similarity/coco_semantics.pickle\",\"w\"))"
   ]
  }
 ],
 "metadata": {
  "anaconda-cloud": {},
  "kernelspec": {
   "display_name": "Python [default]",
   "language": "python",
   "name": "python2"
  },
  "language_info": {
   "codemirror_mode": {
    "name": "ipython",
    "version": 2
   },
   "file_extension": ".py",
   "mimetype": "text/x-python",
   "name": "python",
   "nbconvert_exporter": "python",
   "pygments_lexer": "ipython2",
   "version": "2.7.12"
  }
 },
 "nbformat": 4,
 "nbformat_minor": 0
}
